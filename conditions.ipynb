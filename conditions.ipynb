{
 "cells": [
  {
   "cell_type": "markdown",
   "metadata": {},
   "source": [
    "conditions in python\n",
    "\n",
    "- block of code\n",
    "   -  if, else, elif, while, for, try, except, finally, with, def, class\n",
    "- if condition\n",
    "- if else condition\n",
    "- if elif ladder\n",
    "- nested if else\n",
    "- short hand if else\n",
    "- match case"
   ]
  },
  {
   "cell_type": "code",
   "execution_count": 2,
   "metadata": {},
   "outputs": [
    {
     "name": "stdout",
     "output_type": "stream",
     "text": [
      "bye\n"
     ]
    }
   ],
   "source": [
    "# if condition\n",
    "a = -3\n",
    "if a > 5:       # block of code\n",
    "    print(\"a is greater than 5\")\n",
    "    print(\"hi\")\n",
    "print('bye')"
   ]
  },
  {
   "cell_type": "code",
   "execution_count": 4,
   "metadata": {},
   "outputs": [
    {
     "name": "stdout",
     "output_type": "stream",
     "text": [
      "very good, you know how to type long words 😊\n"
     ]
    }
   ],
   "source": [
    "word = input('enter a long word')\n",
    "if len(word) > 10:\n",
    "    print(\"very good, you know how to type long words 😊\")\n"
   ]
  },
  {
   "cell_type": "code",
   "execution_count": 6,
   "metadata": {},
   "outputs": [
    {
     "name": "stdout",
     "output_type": "stream",
     "text": [
      "yay 100\n"
     ]
    }
   ],
   "source": [
    "# if else condition \n",
    "n = [12,21,32,43]\n",
    "if sum(n) > 100:\n",
    "    print(\"yay 100\")\n",
    "else:\n",
    "    print(\"😡 not 100\")"
   ]
  },
  {
   "cell_type": "code",
   "execution_count": 7,
   "metadata": {},
   "outputs": [
    {
     "name": "stdout",
     "output_type": "stream",
     "text": [
      "😡 not 100\n"
     ]
    }
   ],
   "source": [
    "n = [1,21,32,43]\n",
    "if sum(n) > 100:\n",
    "    print(\"yay 100\")\n",
    "else:\n",
    "    print(\"😡 not 100\")"
   ]
  },
  {
   "cell_type": "code",
   "execution_count": 2,
   "metadata": {},
   "outputs": [
    {
     "name": "stdout",
     "output_type": "stream",
     "text": [
      "Grade is B\n"
     ]
    }
   ],
   "source": [
    "# if elif ladder\n",
    "marks = 80\n",
    "if marks > 85:\n",
    "    grade = 'A'\n",
    "elif marks > 70:\n",
    "    grade = 'B'\n",
    "elif marks > 60:\n",
    "    grade = 'C'\n",
    "elif marks > 50:\n",
    "    grade = 'D'\n",
    "else:\n",
    "    grade = 'F'\n",
    "\n",
    "print(f\"Grade is {grade}\")\n"
   ]
  },
  {
   "cell_type": "code",
   "execution_count": 4,
   "metadata": {},
   "outputs": [
    {
     "name": "stdout",
     "output_type": "stream",
     "text": [
      "C 52 is the largest\n"
     ]
    }
   ],
   "source": [
    "# find the largest number\n",
    "a, b, c = 31, 23, 52\n",
    "if a >b and a > c:\n",
    "    print(f\"A {a} is the largest\")\n",
    "elif b > a and b > c:\n",
    "    print(f\"B {b} is the largest\")\n",
    "else: \n",
    "    print(f\"C {c} is the largest\")"
   ]
  },
  {
   "cell_type": "code",
   "execution_count": 5,
   "metadata": {},
   "outputs": [
    {
     "name": "stdout",
     "output_type": "stream",
     "text": [
      "welcome admin\n"
     ]
    }
   ],
   "source": [
    "# nested if else\n",
    "un = input('enter a username')\n",
    "pw = input('enter a password')\n",
    "if un and pw:\n",
    "    if un == 'admin':\n",
    "        if pw == 'admin':\n",
    "            print(\"welcome, admin\")\n",
    "        else:\n",
    "            print(\"wrong Password\")\n",
    "    else:\n",
    "        print(\"Invalid username\")\n",
    "else:\n",
    "    print(\"enter valid details\")\n"
   ]
  },
  {
   "cell_type": "code",
   "execution_count": 10,
   "metadata": {},
   "outputs": [
    {
     "name": "stdout",
     "output_type": "stream",
     "text": [
      "true\n",
      "true \n"
     ]
    }
   ],
   "source": [
    "# short hand if else\n",
    "a = 13\n",
    "print(\"true\") if a>= 10 else print(\"false\")\n",
    "print(\"true \" if a >= 10 else \"false\")"
   ]
  },
  {
   "cell_type": "code",
   "execution_count": 13,
   "metadata": {},
   "outputs": [
    {
     "name": "stdout",
     "output_type": "stream",
     "text": [
      "What would you like to eat\n",
      "Menu\n",
      "1. Pizza\n",
      "1. Burger\n",
      "1. Pasta\n",
      "1. Sandwich\n",
      "enter a number:\n",
      "Your order is Burger \n",
      " total amt = 200\n"
     ]
    }
   ],
   "source": [
    "# match case\n",
    "print(\"What would you like to eat\")\n",
    "print(\"Menu\")\n",
    "print(\"1. Pizza🍕\")\n",
    "print(\"1. Burger🍔\")\n",
    "print(\"1. Pasta\")\n",
    "print(\"1. Sandwich\")\n",
    "print(\"enter a number:\")\n",
    "ch = int(input(\">>>\"))\n",
    "match ch:\n",
    "    case 1:\n",
    "        print(\"Your order is Pizza \\n total amt = 400\")\n",
    "    case 2:\n",
    "        print(\"Your order is Burger \\n total amt = 200\")\n",
    "    case 3:\n",
    "        print(\"Your order is Pasta \\n total amt = 100\")\n",
    "    case 4: \n",
    "        print(\"Your order is Sandwich \\n total amt = 300\")\n",
    "    case _:\n",
    "        print(\"Invalid choice\")\n"
   ]
  },
  {
   "cell_type": "code",
   "execution_count": 18,
   "metadata": {},
   "outputs": [
    {
     "name": "stdout",
     "output_type": "stream",
     "text": [
      "What would you like to eat\n",
      "Menu\n",
      "1. Pizza\n",
      "2. Burger\n",
      "3. Pasta\n",
      "4. Sandwich\n",
      "enter a number:\n",
      "Your order is Pasta \n",
      " total amt = 100\n"
     ]
    }
   ],
   "source": [
    "# match case \n",
    "print(\"What would you like to eat\")\n",
    "print(\"Menu\")\n",
    "print(\"1. Pizza\")\n",
    "print(\"2. Burger\")\n",
    "print(\"3. Pasta\")\n",
    "print(\"4. Sandwich\")\n",
    "print(\"enter a number:\")\n",
    "ch = int(input(\">>>\"))\n",
    "if ch == 1:\n",
    "    print(\"Your order is Pizza \\n total amt = 400\")\n",
    "elif ch == 2:\n",
    "    print(\"Your order is Burger \\n total amt = 200\")\n",
    "elif ch == 3:\n",
    "    print(\"Your order is Pasta \\n total amt = 100\")\n",
    "elif ch == 4: \n",
    "    print(\"Your order is Sandwich \\n total amt = 300\")\n",
    "else:\n",
    "    print(\"Invalid choice\")"
   ]
  },
  {
   "cell_type": "code",
   "execution_count": null,
   "metadata": {},
   "outputs": [],
   "source": []
  }
 ],
 "metadata": {
  "kernelspec": {
   "display_name": "base",
   "language": "python",
   "name": "python3"
  },
  "language_info": {
   "codemirror_mode": {
    "name": "ipython",
    "version": 3
   },
   "file_extension": ".py",
   "mimetype": "text/x-python",
   "name": "python",
   "nbconvert_exporter": "python",
   "pygments_lexer": "ipython3",
   "version": "3.12.3"
  }
 },
 "nbformat": 4,
 "nbformat_minor": 2
}
