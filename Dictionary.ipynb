{
 "cells": [
  {
   "cell_type": "markdown",
   "metadata": {},
   "source": [
    "DICTIONARY\n",
    "- how to declare list\n",
    "- how to access key and values of a dictionary\n",
    "- how to use loops in dictionary"
   ]
  },
  {
   "cell_type": "code",
   "execution_count": 2,
   "metadata": {},
   "outputs": [
    {
     "name": "stdout",
     "output_type": "stream",
     "text": [
      "{'name': 'John', 'class': '12th', 'roll_no': 12, 'age': 17}\n"
     ]
    }
   ],
   "source": [
    "student = {\n",
    "    'name' : 'John',\n",
    "    'class' : '12th',\n",
    "    'roll_no' : 12,\n",
    "    'age' : 17\n",
    "}\n",
    "print(student)"
   ]
  },
  {
   "cell_type": "code",
   "execution_count": 3,
   "metadata": {},
   "outputs": [
    {
     "name": "stdout",
     "output_type": "stream",
     "text": [
      "{'lucknow': [25, 30, 35], 'delhi': [30, 35, 40], 'chennai': [24, 23, 22]}\n"
     ]
    }
   ],
   "source": [
    "temp ={\n",
    "    'lucknow' : [25,30,35],\n",
    "    'delhi': [30,35,40],\n",
    "    'chennai' : [24,23,22]\n",
    "}\n",
    "print(temp)"
   ]
  },
  {
   "cell_type": "markdown",
   "metadata": {},
   "source": []
  },
  {
   "cell_type": "code",
   "execution_count": 4,
   "metadata": {},
   "outputs": [
    {
     "name": "stdout",
     "output_type": "stream",
     "text": [
      "{'name': 'Riya', 'age': 27, 'dept': 'HR', 'salary': 10000}\n"
     ]
    }
   ],
   "source": [
    "info = dict(name='Riya', age=27, dept= 'HR',salary = 10000)\n",
    "print(info)"
   ]
  },
  {
   "cell_type": "code",
   "execution_count": 5,
   "metadata": {},
   "outputs": [
    {
     "name": "stdout",
     "output_type": "stream",
     "text": [
      "{'name': 'John', 'age': 25, 'dept': 'Finance', 'salary': 300000}\n"
     ]
    }
   ],
   "source": [
    "info2 = dict(name=input(\"Enter the name\"),age =int(input(\"Enter the age\")), dept=input(\"Enter the dept\"), salary=int(input(\"enter the salary\")))\n",
    "print(info2)"
   ]
  },
  {
   "cell_type": "code",
   "execution_count": 7,
   "metadata": {},
   "outputs": [
    {
     "name": "stdout",
     "output_type": "stream",
     "text": [
      "John\n",
      "12\n"
     ]
    }
   ],
   "source": [
    "#1st method\n",
    "print(student['name'])\n",
    "print(student['roll_no'])"
   ]
  },
  {
   "cell_type": "code",
   "execution_count": 8,
   "metadata": {},
   "outputs": [
    {
     "name": "stdout",
     "output_type": "stream",
     "text": [
      "John\n",
      "17\n"
     ]
    }
   ],
   "source": [
    "#2nd method\n",
    "print(student.get('name'))\n",
    "print(student.get('age'))\n"
   ]
  },
  {
   "cell_type": "code",
   "execution_count": 9,
   "metadata": {},
   "outputs": [
    {
     "name": "stdout",
     "output_type": "stream",
     "text": [
      "{'name': 'John', 'class': '12th', 'roll_no': 12, 'age': 17, 'school': 'DPS', 'city': 'Lucknow'}\n"
     ]
    }
   ],
   "source": [
    "#to add items  in a dictionary\n",
    "student['school'] = 'DPS'\n",
    "student['city'] = 'Lucknow'\n",
    "print(student)\n"
   ]
  },
  {
   "cell_type": "code",
   "execution_count": null,
   "metadata": {},
   "outputs": [],
   "source": []
  }
 ],
 "metadata": {
  "kernelspec": {
   "display_name": "base",
   "language": "python",
   "name": "python3"
  },
  "language_info": {
   "codemirror_mode": {
    "name": "ipython",
    "version": 3
   },
   "file_extension": ".py",
   "mimetype": "text/x-python",
   "name": "python",
   "nbconvert_exporter": "python",
   "pygments_lexer": "ipython3",
   "version": "3.12.3"
  }
 },
 "nbformat": 4,
 "nbformat_minor": 2
}
