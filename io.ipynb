{
 "cells": [
  {
   "cell_type": "markdown",
   "metadata": {},
   "source": [
    "### python datatypes\n",
    "```\n",
    "- int      | 1 10 -20           | integers\n",
    "- float    | .2 1.3 -2.3 1.5e10 | float\n",
    "- bool     | True, False        | Boolean\n",
    "- str      | 'hello', \"hello\"   | String\n",
    "- Nonetype | None               | No Value\n",
    "- list     | [1,2,3]            | similar to array\n",
    "- tuple    | (1,2,3)            |similar to array\n",
    "- set      | {1,2,3}            | similar to array\n",
    "- dict     | {\"a\": 'apple'}     | similar to array \n",
    "```"
   ]
  },
  {
   "cell_type": "code",
   "execution_count": null,
   "metadata": {},
   "outputs": [],
   "source": [
    "print(\"Hello , I am Alex\")"
   ]
  },
  {
   "cell_type": "code",
   "execution_count": 1,
   "metadata": {},
   "outputs": [
    {
     "name": "stdout",
     "output_type": "stream",
     "text": [
      "Hello , I am Alex\n"
     ]
    }
   ],
   "source": [
    "print(\"Hello , I am Alex\")"
   ]
  },
  {
   "cell_type": "code",
   "execution_count": 2,
   "metadata": {},
   "outputs": [
    {
     "name": "stdout",
     "output_type": "stream",
     "text": [
      "Once upon a time\n",
      "Therewasa monkey\n",
      "sitting on a tree\n",
      "to be continued\n"
     ]
    }
   ],
   "source": [
    "print(\"Once upon a time\")\n",
    "print(\"Therewasa monkey\")\n",
    "print(\"sitting on a tree\")\n",
    "print(\"to be continued\")\n"
   ]
  },
  {
   "cell_type": "code",
   "execution_count": 3,
   "metadata": {},
   "outputs": [
    {
     "name": "stdout",
     "output_type": "stream",
     "text": [
      "10 20 200\n",
      "10 * 20 = 200\n"
     ]
    }
   ],
   "source": [
    "a = 10\n",
    "b = 20\n",
    "c = a * b\n",
    "print(a, b, c)\n",
    "print(a, \"*\", b, \"=\", c)"
   ]
  },
  {
   "cell_type": "code",
   "execution_count": 6,
   "metadata": {},
   "outputs": [
    {
     "name": "stdout",
     "output_type": "stream",
     "text": [
      "Name: Sara , Age: 25 ,Job: SDE 1\n"
     ]
    }
   ],
   "source": [
    "name = 'Sara'\n",
    "age = 25\n",
    "job = \"SDE 1\"\n",
    "print(\"Name:\", name, \", Age:\", age, \",Job:\", job)"
   ]
  },
  {
   "cell_type": "code",
   "execution_count": 7,
   "metadata": {},
   "outputs": [
    {
     "name": "stdout",
     "output_type": "stream",
     "text": [
      "Name: Sara\n",
      "age: 25\n",
      "Job: SDE 1\n"
     ]
    }
   ],
   "source": [
    "print(\"Name:\", name)\n",
    "print(\"age:\", age)\n",
    "print(\"Job:\", job)"
   ]
  },
  {
   "cell_type": "markdown",
   "metadata": {},
   "source": [
    "f-strings(python>=3.6)"
   ]
  },
  {
   "cell_type": "code",
   "execution_count": 10,
   "metadata": {},
   "outputs": [
    {
     "name": "stdout",
     "output_type": "stream",
     "text": [
      "simple interest calculator\n",
      "__________\n",
      "principle = 120000\n",
      "rate = 2.5\n",
      "time = 10\n",
      "simple interest = 30000.0\n"
     ]
    }
   ],
   "source": [
    "p = 120000\n",
    "r = 2.5\n",
    "t = 10\n",
    "SI = p*r*t/100\n",
    "print(\"simple interest calculator\")\n",
    "print(\"_\"*10)\n",
    "print(f'principle = {p}')\n",
    "print(f'rate = {r}')\n",
    "print(f'time = {t}')\n",
    "print(f'simple interest = {SI}')\n"
   ]
  },
  {
   "cell_type": "code",
   "execution_count": 19,
   "metadata": {},
   "outputs": [
    {
     "name": "stdout",
     "output_type": "stream",
     "text": [
      "simple interest calculator\n",
      "--------------------------\n",
      "principle              120K\n",
      "rate                   2.5%\n",
      "time                    10y\n",
      "--------------------------\n",
      "simple interest       30.0K\n",
      "--------------------------\n"
     ]
    }
   ],
   "source": [
    "# Alignment \n",
    "print(\"simple interest calculator\")\n",
    "print(\"-\"*26)\n",
    "print(f'principle  {p//1000:15}K')\n",
    "print(f'rate  {r:20}%')\n",
    "print(f'time  {t:20}y')\n",
    "print(\"-\"*26)\n",
    "print(f'simple interest  {SI/1000:9}K')\n",
    "print(\"-\"*26)\n"
   ]
  },
  {
   "cell_type": "code",
   "execution_count": 20,
   "metadata": {},
   "outputs": [
    {
     "name": "stdout",
     "output_type": "stream",
     "text": [
      "Kung fu panda\n",
      "You may like it but i don't care\n"
     ]
    }
   ],
   "source": [
    "# How to input from user\n",
    "fav_movie = input(\"Plz enter your movie\")\n",
    "print(fav_movie)\n",
    "print(\"You may like it but i don't care\")"
   ]
  },
  {
   "cell_type": "code",
   "execution_count": 22,
   "metadata": {},
   "outputs": [
    {
     "name": "stdout",
     "output_type": "stream",
     "text": [
      "Result is\n",
      "30\n"
     ]
    }
   ],
   "source": [
    "a = int(input(\"enter a number\"))\n",
    "b = int(input(\"enter anoyher number\"))\n",
    "print(\"Result is\")\n",
    "print(a + b)"
   ]
  },
  {
   "cell_type": "code",
   "execution_count": 23,
   "metadata": {},
   "outputs": [
    {
     "name": "stdout",
     "output_type": "stream",
     "text": [
      "Result is\n",
      "24\n"
     ]
    }
   ],
   "source": [
    "a = int(input(\"enter a number\"))\n",
    "b = int(input(\"enter anoyher number\"))\n",
    "print(\"Result is\")\n",
    "print(int(a) + int(b))"
   ]
  },
  {
   "cell_type": "code",
   "execution_count": null,
   "metadata": {},
   "outputs": [],
   "source": []
  }
 ],
 "metadata": {
  "kernelspec": {
   "display_name": "base",
   "language": "python",
   "name": "python3"
  },
  "language_info": {
   "codemirror_mode": {
    "name": "ipython",
    "version": 3
   },
   "file_extension": ".py",
   "mimetype": "text/x-python",
   "name": "python",
   "nbconvert_exporter": "python",
   "pygments_lexer": "ipython3",
   "version": "3.12.3"
  }
 },
 "nbformat": 4,
 "nbformat_minor": 2
}
