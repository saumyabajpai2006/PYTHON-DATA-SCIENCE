{
 "cells": [
  {
   "cell_type": "markdown",
   "metadata": {},
   "source": [
    "Pandas for analysis\n",
    "- dataset\n",
    "    - dictionary of otems\n",
    "    - list of items\n",
    "    - import csv files\n",
    "    - import excel files\n",
    "    - import json files\n",
    "- creating dataframe\n",
    "- reading data\n",
    "- selection of data\n",
    "- manipulating the data\n",
    "- cleaning the data\n",
    "- visualizing the data\n",
    "- saving the data"
   ]
  },
  {
   "cell_type": "markdown",
   "metadata": {},
   "source": []
  }
 ],
 "metadata": {
  "kernelspec": {
   "display_name": "base",
   "language": "python",
   "name": "python3"
  },
  "language_info": {
   "name": "python",
   "version": "3.12.3"
  }
 },
 "nbformat": 4,
 "nbformat_minor": 2
}
