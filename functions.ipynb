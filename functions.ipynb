{
 "cells": [
  {
   "cell_type": "markdown",
   "metadata": {},
   "source": [
    "# functions in python\n",
    "- pre defined functions\n",
    "    - built-in functions\n",
    "        - print(), input(), len()\n",
    "    - modules based functions\n",
    "        - local modules\n",
    "            - math\n",
    "            - datetime\n",
    "            - os \n",
    "            - turtle\n",
    "            - random\n",
    "        - 3rd party modules\n",
    "            - numpy\n",
    "            - pandas\n",
    "            - matplotlib\n",
    "            - dputils\n",
    "- user defined functions\n",
    "    - function with return value\n",
    "    - non-parametarized function\n",
    "    - parametarized functions\n",
    "     - required parameter/named parameter\n",
    "     - default parameter\n",
    "     - variables args\n",
    "     - lambda\n",
    "     - map and filter"
   ]
  },
  {
   "cell_type": "markdown",
   "metadata": {},
   "source": [
    "modules based functions"
   ]
  },
  {
   "cell_type": "code",
   "execution_count": 19,
   "metadata": {},
   "outputs": [],
   "source": [
    "import math"
   ]
  },
  {
   "cell_type": "code",
   "execution_count": 20,
   "metadata": {},
   "outputs": [
    {
     "data": {
      "text/plain": [
       "3.141592653589793"
      ]
     },
     "execution_count": 20,
     "metadata": {},
     "output_type": "execute_result"
    }
   ],
   "source": [
    "math.pi"
   ]
  },
  {
   "cell_type": "code",
   "execution_count": 21,
   "metadata": {},
   "outputs": [
    {
     "data": {
      "text/plain": [
       "3628800"
      ]
     },
     "execution_count": 21,
     "metadata": {},
     "output_type": "execute_result"
    }
   ],
   "source": [
    "math.factorial(10)"
   ]
  },
  {
   "cell_type": "code",
   "execution_count": 22,
   "metadata": {},
   "outputs": [
    {
     "data": {
      "text/plain": [
       "-0.5440211108893698"
      ]
     },
     "execution_count": 22,
     "metadata": {},
     "output_type": "execute_result"
    }
   ],
   "source": [
    "math.sin(10)"
   ]
  },
  {
   "cell_type": "code",
   "execution_count": 23,
   "metadata": {},
   "outputs": [
    {
     "data": {
      "text/plain": [
       "3"
      ]
     },
     "execution_count": 23,
     "metadata": {},
     "output_type": "execute_result"
    }
   ],
   "source": [
    "math.floor(3.1298765)"
   ]
  },
  {
   "cell_type": "code",
   "execution_count": 24,
   "metadata": {},
   "outputs": [
    {
     "data": {
      "text/plain": [
       "4"
      ]
     },
     "execution_count": 24,
     "metadata": {},
     "output_type": "execute_result"
    }
   ],
   "source": [
    "math.ceil(3.129)"
   ]
  },
  {
   "cell_type": "code",
   "execution_count": 25,
   "metadata": {},
   "outputs": [
    {
     "data": {
      "text/plain": [
       "3.129"
      ]
     },
     "execution_count": 25,
     "metadata": {},
     "output_type": "execute_result"
    }
   ],
   "source": [
    "math.fabs(-3.129)"
   ]
  },
  {
   "cell_type": "code",
   "execution_count": 26,
   "metadata": {},
   "outputs": [],
   "source": [
    "from random import choice, randint"
   ]
  },
  {
   "cell_type": "code",
   "execution_count": 27,
   "metadata": {},
   "outputs": [
    {
     "name": "stdout",
     "output_type": "stream",
     "text": [
      "\u001b[1;31mSignature:\u001b[0m \u001b[0mchoice\u001b[0m\u001b[1;33m(\u001b[0m\u001b[0mseq\u001b[0m\u001b[1;33m)\u001b[0m\u001b[1;33m\u001b[0m\u001b[1;33m\u001b[0m\u001b[0m\n",
      "\u001b[1;31mDocstring:\u001b[0m Choose a random element from a non-empty sequence.\n",
      "\u001b[1;31mFile:\u001b[0m      c:\\users\\saumy\\miniconda3\\lib\\random.py\n",
      "\u001b[1;31mType:\u001b[0m      method"
     ]
    }
   ],
   "source": [
    "# to know about\n",
    "choice?"
   ]
  },
  {
   "cell_type": "code",
   "execution_count": 28,
   "metadata": {},
   "outputs": [
    {
     "name": "stdout",
     "output_type": "stream",
     "text": [
      "['😺', '🦁', '🐯', '🦒', '🦊', '🦝', '🙉', '🐺']\n",
      "Youremoji is:\n",
      "🦊\n"
     ]
    }
   ],
   "source": [
    "data = ['😺','🦁','🐯','🦒','🦊','🦝','🙉','🐺']\n",
    "print(data)\n",
    "print(\"Youremoji is:\")\n",
    "print(choice(data))"
   ]
  },
  {
   "cell_type": "code",
   "execution_count": 29,
   "metadata": {},
   "outputs": [
    {
     "name": "stdout",
     "output_type": "stream",
     "text": [
      "3\n"
     ]
    }
   ],
   "source": [
    "print(randint(1,6))"
   ]
  },
  {
   "cell_type": "code",
   "execution_count": 30,
   "metadata": {},
   "outputs": [
    {
     "name": "stdout",
     "output_type": "stream",
     "text": [
      "🦒 🦊 😺 🐯 🦝\n",
      "😺 🦝 🦒 🐺 🦊 🙉 🙉 🦒 🦒 🦊\n"
     ]
    }
   ],
   "source": [
    "from random import sample, choices\n",
    "out = sample(data, 5)\n",
    "print(*out) # * here is a trick to unpack the list\n",
    "out2 = choices(data, k=10)\n",
    "print(*out2)"
   ]
  },
  {
   "cell_type": "code",
   "execution_count": 31,
   "metadata": {},
   "outputs": [],
   "source": [
    "from datetime import datetime"
   ]
  },
  {
   "cell_type": "code",
   "execution_count": 32,
   "metadata": {},
   "outputs": [
    {
     "name": "stdout",
     "output_type": "stream",
     "text": [
      "2024-07-27 11:16:44.337804\n"
     ]
    }
   ],
   "source": [
    "print(datetime.now())"
   ]
  },
  {
   "cell_type": "code",
   "execution_count": 33,
   "metadata": {},
   "outputs": [
    {
     "name": "stdout",
     "output_type": "stream",
     "text": [
      "2024-07-27\n",
      "2024-07-27\n",
      "2024-07-27 11:16:44.353272\n",
      "27/07/24\n"
     ]
    }
   ],
   "source": [
    "# date\n",
    "date = datetime.date(datetime.now())\n",
    "print(date)\n",
    "time = datetime.time(datetime.now())\n",
    "print(date)\n",
    "now = datetime.now()\n",
    "print(now)\n",
    "formatted = now.strftime(\"%d/%m/%y\")\n",
    "print(formatted)"
   ]
  },
  {
   "cell_type": "code",
   "execution_count": 34,
   "metadata": {},
   "outputs": [],
   "source": [
    "import os"
   ]
  },
  {
   "cell_type": "code",
   "execution_count": 35,
   "metadata": {},
   "outputs": [
    {
     "name": "stdout",
     "output_type": "stream",
     "text": [
      "current location\n",
      "c:\\Users\\saumy\\OneDrive\\Documents\\PYTHON DATA SCIENCE\n"
     ]
    }
   ],
   "source": [
    "print(\"current location\")\n",
    "print(os.getcwd())"
   ]
  },
  {
   "cell_type": "code",
   "execution_count": 36,
   "metadata": {},
   "outputs": [
    {
     "name": "stdout",
     "output_type": "stream",
     "text": [
      "list all files\n",
      "🗄️.git\n",
      "🗄️basics.ipynb\n",
      "🗄️conditions.ipynb\n",
      "🗄️Dictionary.ipynb\n",
      "🗄️functions.ipynb\n",
      "🗄️io.ipynb\n",
      "🗄️list.ipynb\n",
      "🗄️Loops.ipynb\n",
      "🗄️pattern1.py\n",
      "🗄️pattern2.py\n",
      "🗄️Sets.ipynb\n",
      "🗄️string.ipynb\n"
     ]
    }
   ],
   "source": [
    "print(\"list all files\")\n",
    "content = os.listdir()\n",
    "for item in content:\n",
    "    print(f\"🗄️{item}\")"
   ]
  },
  {
   "cell_type": "code",
   "execution_count": 37,
   "metadata": {},
   "outputs": [
    {
     "name": "stdout",
     "output_type": "stream",
     "text": [
      " 🗄️ CMAK\n",
      " 🗄️ Common Files\n",
      " 🗄️ desktop.ini\n",
      " 🗄️ Git\n",
      " 🗄️ Google\n",
      " 🗄️ Intel\n",
      " 🗄️ Internet Explorer\n",
      " 🗄️ Java\n",
      " 🗄️ Microsoft\n",
      " 🗄️ Microsoft Office\n",
      " 🗄️ Microsoft Office 15\n",
      " 🗄️ Microsoft OneDrive\n",
      " 🗄️ Microsoft Power BI Desktop\n",
      " 🗄️ Microsoft Update Health Tools\n",
      " 🗄️ ModifiableWindowsApps\n",
      " 🗄️ MySQL\n",
      " 🗄️ Notepad++\n",
      " 🗄️ Python312\n",
      " 🗄️ Uninstall Information\n",
      " 🗄️ Windows Defender\n",
      " 🗄️ Windows Mail\n",
      " 🗄️ Windows Media Player\n",
      " 🗄️ Windows NT\n",
      " 🗄️ Windows Photo Viewer\n",
      " 🗄️ Windows Sidebar\n",
      " 🗄️ WindowsApps\n",
      " 🗄️ WindowsPowerShell\n"
     ]
    }
   ],
   "source": [
    "content = os.listdir(\"c:/Program Files\")\n",
    "for item in content:\n",
    "    print(f\" 🗄️ {item}\")"
   ]
  },
  {
   "cell_type": "code",
   "execution_count": 39,
   "metadata": {},
   "outputs": [
    {
     "name": "stdout",
     "output_type": "stream",
     "text": [
      "📁 CMAK\n",
      "📁 Common Files\n",
      " 🗄️ desktop.ini\n",
      "📁 Git\n",
      "📁 Google\n",
      "📁 Intel\n",
      "📁 Internet Explorer\n",
      "📁 Java\n",
      "📁 Microsoft\n",
      "📁 Microsoft Office\n",
      "📁 Microsoft Office 15\n",
      "📁 Microsoft OneDrive\n",
      "📁 Microsoft Power BI Desktop\n",
      "📁 Microsoft Update Health Tools\n",
      "📁 ModifiableWindowsApps\n",
      "📁 MySQL\n",
      "📁 Notepad++\n",
      "📁 Python312\n",
      "📁 Uninstall Information\n",
      "📁 Windows Defender\n",
      "📁 Windows Mail\n",
      "📁 Windows Media Player\n",
      "📁 Windows NT\n",
      "📁 Windows Photo Viewer\n",
      "📁 Windows Sidebar\n",
      "📁 WindowsApps\n",
      "📁 WindowsPowerShell\n"
     ]
    }
   ],
   "source": [
    "content = os.listdir(\"c:/Program Files\")\n",
    "for item in content:\n",
    "    path = f\"c:/Program Files/{item}\"\n",
    "    is_file = os.path.isfile(path)\n",
    "    if is_file:\n",
    "        print(f\" 🗄️ {item}\")\n",
    "    else:\n",
    "        print(f\"📁 {item}\")\n"
   ]
  },
  {
   "cell_type": "code",
   "execution_count": 42,
   "metadata": {},
   "outputs": [],
   "source": [
    "os.makedirs(\"a/b/c\", exist_ok = True)"
   ]
  },
  {
   "cell_type": "code",
   "execution_count": 44,
   "metadata": {},
   "outputs": [],
   "source": [
    "os.makedirs(\"C:/important/work\",exist_ok = True)"
   ]
  },
  {
   "cell_type": "markdown",
   "metadata": {},
   "source": [
    "# user defined functions\n",
    "### stage 1: define a function (create)\n",
    "```python\n",
    "def fun_name([params...])\n",
    "statements\n",
    "...\n",
    "[return value]\n",
    "```\n",
    "### stage 2: call the function(use)\n",
    "fun_name([args...])\n"
   ]
  },
  {
   "cell_type": "code",
   "execution_count": 51,
   "metadata": {},
   "outputs": [],
   "source": [
    "def adder():\n",
    "    a = int(input(\"Enter a number:\"))\n",
    "    b = int(input(\"Enter another number:\"))\n",
    "    total = a + b\n",
    "    print(total)"
   ]
  },
  {
   "cell_type": "code",
   "execution_count": 53,
   "metadata": {},
   "outputs": [
    {
     "name": "stdout",
     "output_type": "stream",
     "text": [
      "90\n",
      "100\n"
     ]
    }
   ],
   "source": [
    "adder()\n",
    "adder()"
   ]
  },
  {
   "cell_type": "code",
   "execution_count": 70,
   "metadata": {},
   "outputs": [],
   "source": [
    "def adder(a,b):\n",
    "    total = a+b\n",
    "    ## print(total)\n",
    "    return(total)\n"
   ]
  },
  {
   "cell_type": "code",
   "execution_count": 71,
   "metadata": {},
   "outputs": [
    {
     "data": {
      "text/plain": [
       "22"
      ]
     },
     "execution_count": 71,
     "metadata": {},
     "output_type": "execute_result"
    }
   ],
   "source": [
    "adder(10,12)"
   ]
  },
  {
   "cell_type": "code",
   "execution_count": 56,
   "metadata": {},
   "outputs": [
    {
     "name": "stdout",
     "output_type": "stream",
     "text": [
      "22\n"
     ]
    }
   ],
   "source": [
    "x = 10\n",
    "y = 12\n",
    "adder(x,y)"
   ]
  },
  {
   "cell_type": "code",
   "execution_count": 72,
   "metadata": {},
   "outputs": [],
   "source": [
    "def si(p,r,t):\n",
    "    SI =(p*r*t)/100\n",
    "    amount = SI + p\n",
    "    ## print(amount)\n",
    "    ## print(SI)\n",
    "    return SI, amount\n",
    "    "
   ]
  },
  {
   "cell_type": "code",
   "execution_count": 73,
   "metadata": {},
   "outputs": [
    {
     "data": {
      "text/plain": [
       "(0.6, 10.6)"
      ]
     },
     "execution_count": 73,
     "metadata": {},
     "output_type": "execute_result"
    }
   ],
   "source": [
    "si(10,2,3)"
   ]
  },
  {
   "cell_type": "code",
   "execution_count": 74,
   "metadata": {},
   "outputs": [],
   "source": [
    "def area_of_sphere(r):\n",
    "    area = 4 * 3.14 *r *r\n",
    "    ## print(area)\n",
    "    return(area)"
   ]
  },
  {
   "cell_type": "code",
   "execution_count": 75,
   "metadata": {},
   "outputs": [
    {
     "data": {
      "text/plain": [
       "1256.0"
      ]
     },
     "execution_count": 75,
     "metadata": {},
     "output_type": "execute_result"
    }
   ],
   "source": [
    "area_of_sphere(2)"
   ]
  },
  {
   "cell_type": "code",
   "execution_count": 76,
   "metadata": {},
   "outputs": [
    {
     "name": "stdout",
     "output_type": "stream",
     "text": [
      "21\n",
      "5538.96\n"
     ]
    }
   ],
   "source": [
    "ans = adder(15, 6)\n",
    "print(ans)\n",
    "result = area_of_sphere(ans)\n",
    "print(result)"
   ]
  },
  {
   "cell_type": "code",
   "execution_count": 79,
   "metadata": {},
   "outputs": [
    {
     "name": "stdout",
     "output_type": "stream",
     "text": [
      "4\n",
      "total words: 9\n"
     ]
    }
   ],
   "source": [
    "# waf to count the number of words in a sentence\n",
    "def word_count(sentence):\n",
    "    words = sentence.split()\n",
    "    return len(words)\n",
    "\n",
    "sentence = \"I am a student\"\n",
    "print(word_count(sentence))\n",
    "\n",
    "sentence = \"this is a long sentence with my words, okay?\"\n",
    "size = word_count(sentence)\n",
    "print(f'total words: {size}')"
   ]
  },
  {
   "cell_type": "code",
   "execution_count": null,
   "metadata": {},
   "outputs": [],
   "source": []
  }
 ],
 "metadata": {
  "kernelspec": {
   "display_name": "base",
   "language": "python",
   "name": "python3"
  },
  "language_info": {
   "codemirror_mode": {
    "name": "ipython",
    "version": 3
   },
   "file_extension": ".py",
   "mimetype": "text/x-python",
   "name": "python",
   "nbconvert_exporter": "python",
   "pygments_lexer": "ipython3",
   "version": "3.12.3"
  }
 },
 "nbformat": 4,
 "nbformat_minor": 2
}
