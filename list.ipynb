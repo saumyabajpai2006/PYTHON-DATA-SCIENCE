{
 "cells": [
  {
   "cell_type": "code",
   "execution_count": 1,
   "metadata": {},
   "outputs": [
    {
     "name": "stdout",
     "output_type": "stream",
     "text": [
      "['chrome', 'photos', 'zomato', 'swiggy', 'uber', 'drive', 'instagram', 'facebook', 'whatsapp']\n"
     ]
    }
   ],
   "source": [
    "apps = ['chrome', 'photos', 'zomato', 'swiggy','uber', 'drive','instagram', 'facebook', 'whatsapp']\n",
    "print(apps)"
   ]
  },
  {
   "cell_type": "code",
   "execution_count": 6,
   "metadata": {},
   "outputs": [
    {
     "name": "stdout",
     "output_type": "stream",
     "text": [
      "drive\n",
      "instagram\n",
      "facebook\n",
      "photos\n"
     ]
    }
   ],
   "source": [
    "# positive and negative indexing\n",
    "print(apps[5])\n",
    "print(apps[6])\n",
    "print(apps[-2])\n",
    "print(apps[-8])"
   ]
  },
  {
   "cell_type": "code",
   "execution_count": 13,
   "metadata": {},
   "outputs": [
    {
     "name": "stdout",
     "output_type": "stream",
     "text": [
      "['chrome', 'photos', 'zomato']\n",
      "['chrome', 'zomato', 'uber', 'instagram', 'whatsapp']\n",
      "['chrome', 'photos', 'zomato', 'swiggy', 'uber']\n",
      "['drive', 'instagram', 'facebook', 'whatsapp']\n",
      "['chrome', 'photos', 'zomato', 'swiggy', 'uber', 'drive', 'instagram', 'facebook', 'whatsapp']\n",
      "['chrome', 'zomato', 'uber', 'instagram', 'whatsapp']\n"
     ]
    }
   ],
   "source": [
    "print(apps[0 : 3])\n",
    "print(apps[0:9:2])\n",
    "print(apps[:5])\n",
    "print(apps[5:])\n",
    "print(apps[:])\n",
    "print(apps[::2])"
   ]
  },
  {
   "cell_type": "code",
   "execution_count": 14,
   "metadata": {},
   "outputs": [
    {
     "name": "stdout",
     "output_type": "stream",
     "text": [
      "['chrome', 'photos', 'zomato', 'swiggy', 'uber', 'drive', 'instagram', 'facebook', 'whatsapp']\n"
     ]
    }
   ],
   "source": [
    "print(apps)"
   ]
  },
  {
   "cell_type": "code",
   "execution_count": 16,
   "metadata": {},
   "outputs": [
    {
     "name": "stdout",
     "output_type": "stream",
     "text": [
      "['chrome', 'photos', 'zomato', 'swiggy', 'uber', 'drive', 'instagram', 'facebook', 'whatsapp', 'tinder']\n"
     ]
    }
   ],
   "source": [
    "#add item\n",
    "apps.append('tinder')\n",
    "print(apps)"
   ]
  },
  {
   "cell_type": "code",
   "execution_count": 17,
   "metadata": {},
   "outputs": [
    {
     "name": "stdout",
     "output_type": "stream",
     "text": [
      "['chrome', 'photos', 'tinder', 'zomato', 'swiggy', 'uber', 'drive', 'instagram', 'facebook', 'whatsapp', 'tinder']\n"
     ]
    }
   ],
   "source": [
    "#insert a position to a specific place\n",
    "apps.insert(2, 'tinder')\n",
    "print(apps)"
   ]
  },
  {
   "cell_type": "code",
   "execution_count": 18,
   "metadata": {},
   "outputs": [
    {
     "name": "stdout",
     "output_type": "stream",
     "text": [
      "['chrome', 'photos', 'tinder', 'zomato', 'swiggy', 'uber', 'instagram', 'facebook', 'whatsapp', 'tinder']\n"
     ]
    }
   ],
   "source": [
    "#to delete a item by index position\n",
    "apps.pop(6)\n",
    "print(apps)"
   ]
  },
  {
   "cell_type": "code",
   "execution_count": 19,
   "metadata": {},
   "outputs": [
    {
     "name": "stdout",
     "output_type": "stream",
     "text": [
      "['chrome', 'tinder', 'zomato', 'swiggy', 'uber', 'instagram', 'facebook', 'whatsapp', 'tinder']\n"
     ]
    }
   ],
   "source": [
    "#delete by name\n",
    "apps.remove('photos')\n",
    "print(apps)"
   ]
  },
  {
   "cell_type": "code",
   "execution_count": 20,
   "metadata": {},
   "outputs": [
    {
     "name": "stdout",
     "output_type": "stream",
     "text": [
      "['chrome', 'facebook', 'instagram', 'swiggy', 'tinder', 'tinder', 'uber', 'whatsapp', 'zomato']\n"
     ]
    }
   ],
   "source": [
    "apps.sort()\n",
    "print(apps)"
   ]
  },
  {
   "cell_type": "code",
   "execution_count": 21,
   "metadata": {},
   "outputs": [
    {
     "name": "stdout",
     "output_type": "stream",
     "text": [
      "['chrome', 'facebook', 'instagram', 'swiggy', 'tinder', 'tinder', 'uber', 'whatsapp', 'zomato']\n"
     ]
    }
   ],
   "source": [
    "apps2 = apps.copy()\n",
    "print(apps2)"
   ]
  },
  {
   "cell_type": "code",
   "execution_count": 22,
   "metadata": {},
   "outputs": [
    {
     "name": "stdout",
     "output_type": "stream",
     "text": [
      "[]\n"
     ]
    }
   ],
   "source": [
    "apps.clear()\n",
    "print(apps)"
   ]
  },
  {
   "cell_type": "code",
   "execution_count": 23,
   "metadata": {},
   "outputs": [
    {
     "name": "stdout",
     "output_type": "stream",
     "text": [
      "['chrome', 'facebook', 'instagram', 'swiggy', 'tinder', 'tinder', 'uber', 'whatsapp', 'zomato', 'gpay', 'camera', 'maps']\n"
     ]
    }
   ],
   "source": [
    "# combine two list \n",
    "apps3 = ['gpay', 'camera', 'maps']\n",
    "apps2.extend(apps3)\n",
    "print(apps2)"
   ]
  },
  {
   "cell_type": "code",
   "execution_count": 25,
   "metadata": {},
   "outputs": [
    {
     "name": "stdout",
     "output_type": "stream",
     "text": [
      "['gpay', 'camera', 'maps', 'chrome', 'facebook', 'instagram', 'swiggy', 'tinder', 'tinder', 'uber', 'whatsapp', 'zomato', 'gpay', 'camera', 'maps']\n"
     ]
    }
   ],
   "source": [
    "apps3 = ['gpay', 'camera', 'maps']\n",
    "apps3.extend(apps2)\n",
    "print(apps3)"
   ]
  },
  {
   "cell_type": "code",
   "execution_count": null,
   "metadata": {},
   "outputs": [],
   "source": []
  }
 ],
 "metadata": {
  "kernelspec": {
   "display_name": "base",
   "language": "python",
   "name": "python3"
  },
  "language_info": {
   "codemirror_mode": {
    "name": "ipython",
    "version": 3
   },
   "file_extension": ".py",
   "mimetype": "text/x-python",
   "name": "python",
   "nbconvert_exporter": "python",
   "pygments_lexer": "ipython3",
   "version": "3.12.3"
  }
 },
 "nbformat": 4,
 "nbformat_minor": 2
}
